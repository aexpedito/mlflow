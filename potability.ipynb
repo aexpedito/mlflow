{
 "cells": [
  {
   "cell_type": "code",
   "execution_count": 3,
   "metadata": {},
   "outputs": [
    {
     "name": "stdout",
     "output_type": "stream",
     "text": [
      "Warning: Looks like you're using an outdated `kagglehub` version (installed: 0.3.6), please consider upgrading to the latest version (0.3.10).\n",
      "Downloading from https://www.kaggle.com/api/v1/datasets/download/adityakadiwal/water-potability?dataset_version_number=3...\n"
     ]
    },
    {
     "name": "stderr",
     "output_type": "stream",
     "text": [
      "100%|██████████| 251k/251k [00:00<00:00, 1.05MB/s]"
     ]
    },
    {
     "name": "stdout",
     "output_type": "stream",
     "text": [
      "Extracting files...\n",
      "Path to dataset files: /home/ufscar/.cache/kagglehub/datasets/adityakadiwal/water-potability/versions/3\n"
     ]
    },
    {
     "name": "stderr",
     "output_type": "stream",
     "text": [
      "\n"
     ]
    }
   ],
   "source": [
    "#download dataset from kaggle\n",
    "#https://www.kaggle.com/datasets/adityakadiwal/water-potability/data\n",
    "import kagglehub\n",
    "\n",
    "# Import das Bibliotecas\n",
    "import matplotlib.pyplot as plt\n",
    "import pandas as pd\n",
    "from sklearn import metrics\n",
    "from sklearn.metrics import (\n",
    "    ConfusionMatrixDisplay,\n",
    "    log_loss,\n",
    "    precision_score,\n",
    "    recall_score,\n",
    ")\n",
    "from sklearn.metrics import accuracy_score as acc\n",
    "from sklearn.model_selection import train_test_split\n",
    "\n",
    "import mlflow\n",
    "\n",
    "path = kagglehub.dataset_download(\"adityakadiwal/water-potability\", force_download=True)\n",
    "print(\"Path to dataset files:\", path)\n"
   ]
  },
  {
   "cell_type": "code",
   "execution_count": 14,
   "metadata": {},
   "outputs": [],
   "source": [
    "# abrindo arquivo\n",
    "data_df = pd.read_csv(path + '/water_potability.csv')"
   ]
  },
  {
   "cell_type": "code",
   "execution_count": 15,
   "metadata": {},
   "outputs": [
    {
     "name": "stdout",
     "output_type": "stream",
     "text": [
      "<class 'pandas.core.frame.DataFrame'>\n",
      "RangeIndex: 3276 entries, 0 to 3275\n",
      "Data columns (total 10 columns):\n",
      " #   Column           Non-Null Count  Dtype  \n",
      "---  ------           --------------  -----  \n",
      " 0   ph               2785 non-null   float64\n",
      " 1   Hardness         3276 non-null   float64\n",
      " 2   Solids           3276 non-null   float64\n",
      " 3   Chloramines      3276 non-null   float64\n",
      " 4   Sulfate          2495 non-null   float64\n",
      " 5   Conductivity     3276 non-null   float64\n",
      " 6   Organic_carbon   3276 non-null   float64\n",
      " 7   Trihalomethanes  3114 non-null   float64\n",
      " 8   Turbidity        3276 non-null   float64\n",
      " 9   Potability       3276 non-null   int64  \n",
      "dtypes: float64(9), int64(1)\n",
      "memory usage: 256.1 KB\n"
     ]
    }
   ],
   "source": [
    "data_df.info()"
   ]
  },
  {
   "cell_type": "code",
   "execution_count": 16,
   "metadata": {},
   "outputs": [],
   "source": [
    "#dropa linhas com NA\n",
    "data_df.dropna(inplace=True)"
   ]
  },
  {
   "cell_type": "code",
   "execution_count": 17,
   "metadata": {},
   "outputs": [
    {
     "data": {
      "text/html": [
       "<div>\n",
       "<style scoped>\n",
       "    .dataframe tbody tr th:only-of-type {\n",
       "        vertical-align: middle;\n",
       "    }\n",
       "\n",
       "    .dataframe tbody tr th {\n",
       "        vertical-align: top;\n",
       "    }\n",
       "\n",
       "    .dataframe thead th {\n",
       "        text-align: right;\n",
       "    }\n",
       "</style>\n",
       "<table border=\"1\" class=\"dataframe\">\n",
       "  <thead>\n",
       "    <tr style=\"text-align: right;\">\n",
       "      <th></th>\n",
       "      <th>ph</th>\n",
       "      <th>Potability</th>\n",
       "    </tr>\n",
       "  </thead>\n",
       "  <tbody>\n",
       "    <tr>\n",
       "      <th>ph</th>\n",
       "      <td>1.00000</td>\n",
       "      <td>0.01453</td>\n",
       "    </tr>\n",
       "    <tr>\n",
       "      <th>Potability</th>\n",
       "      <td>0.01453</td>\n",
       "      <td>1.00000</td>\n",
       "    </tr>\n",
       "  </tbody>\n",
       "</table>\n",
       "</div>"
      ],
      "text/plain": [
       "                 ph  Potability\n",
       "ph          1.00000     0.01453\n",
       "Potability  0.01453     1.00000"
      ]
     },
     "execution_count": 17,
     "metadata": {},
     "output_type": "execute_result"
    }
   ],
   "source": [
    "#correlaçao entre PH e Potability\n",
    "corr_Ph_Potability = data_df[['ph', 'Potability']].corr()\n",
    "corr_Ph_Potability\n"
   ]
  },
  {
   "cell_type": "code",
   "execution_count": 18,
   "metadata": {},
   "outputs": [],
   "source": [
    "# Split dos dados\n",
    "data_df_train, data_df_test = train_test_split(data_df,\n",
    "                                               test_size=0.30,\n",
    "                                               random_state=0,\n",
    "                                               shuffle=True)"
   ]
  },
  {
   "cell_type": "code",
   "execution_count": 19,
   "metadata": {},
   "outputs": [],
   "source": [
    "# Normalização dos dados numéricos\n",
    "from sklearn import linear_model\n",
    "from sklearn.compose import ColumnTransformer\n",
    "from sklearn.preprocessing import RobustScaler\n",
    "\n",
    "numeric_features = ['ph',\n",
    "                    'Hardness',\n",
    "                    'Solids',\n",
    "                    'Chloramines',\n",
    "                    'Sulfate',\n",
    "                    'Conductivity',\n",
    "                    'Organic_carbon',\n",
    "                    'Trihalomethanes',\n",
    "                    'Turbidity']\n",
    "categorical_features = ['Potability']\n",
    "transformer = ColumnTransformer([\n",
    "    ('numeric', RobustScaler(), numeric_features)\n",
    "])\n",
    "\n",
    "X_train = transformer.fit_transform(data_df_train)\n",
    "features = transformer.get_feature_names_out()\n",
    "X_train = pd.DataFrame(X_train, columns=features)\n",
    "X_test = pd.DataFrame(transformer.transform(data_df_test), columns=features)\n",
    "\n",
    "y_train = data_df_train['Potability']\n",
    "y_test = data_df_test['Potability']"
   ]
  },
  {
   "cell_type": "code",
   "execution_count": 10,
   "metadata": {},
   "outputs": [
    {
     "name": "stderr",
     "output_type": "stream",
     "text": [
      "/tmp/ipykernel_27921/3715619321.py:1: SettingWithCopyWarning: \n",
      "A value is trying to be set on a copy of a slice from a DataFrame\n",
      "\n",
      "See the caveats in the documentation: https://pandas.pydata.org/pandas-docs/stable/user_guide/indexing.html#returning-a-view-versus-a-copy\n",
      "  y_test['Potability'] = 1\n"
     ]
    }
   ],
   "source": []
  },
  {
   "cell_type": "code",
   "execution_count": 20,
   "metadata": {},
   "outputs": [],
   "source": [
    "#Funçoes utilizadas\n",
    "def get_model_metrics(model_name, threshold, y_prob, y_test):\n",
    "    # salvando resultado\n",
    "    y_pred = (y_prob > threshold)*1\n",
    "    acc_estimate = round(acc(y_test,y_pred), 3)\n",
    "    log_estimate = round(log_loss(y_test,y_prob), 3)\n",
    "    precision = round(precision_score(y_test, y_pred), 3)\n",
    "    recall = round(recall_score(y_test, y_pred), 3)\n",
    "    f1_score = round(metrics.f1_score(y_test, y_pred), 3)\n",
    "\n",
    "    ConfusionMatrixDisplay.from_predictions(y_test, y_pred, normalize = 'all')\n",
    "    plt.show()\n",
    "\n",
    "\n",
    "    return pd.DataFrame({\n",
    "        'Method': [model_name],\n",
    "        'Acuracia': [acc_estimate],\n",
    "        \"Precisao\": [precision],\n",
    "        \"Recall\": [recall],\n",
    "        'F1': [f1_score],\n",
    "        'Log-loss': [log_estimate]\n",
    "    })"
   ]
  },
  {
   "cell_type": "markdown",
   "metadata": {},
   "source": [
    "# Modelo LogisticRegression"
   ]
  },
  {
   "cell_type": "code",
   "execution_count": 21,
   "metadata": {},
   "outputs": [],
   "source": [
    "models = {}\n",
    "metricas = pd.DataFrame(columns = [\n",
    "    'Method',\n",
    "    'Acuracia',\n",
    "    'Precisao',\n",
    "    \"Recall\",\n",
    "    'F1',\n",
    "    'Log-loss'])\n",
    "\n",
    "logistic_none = linear_model.LogisticRegression(penalty=None, max_iter=1000)\n",
    "logistic_none.fit(X=X_train, y=y_train)\n",
    "\n",
    "models['Logistica_sem_penalizacao'] = logistic_none"
   ]
  },
  {
   "cell_type": "code",
   "execution_count": 22,
   "metadata": {},
   "outputs": [
    {
     "data": {
      "image/png": "[encoded data removed]",
      "text/plain": [
       "<Figure size 640x480 with 2 Axes>"
      ]
     },
     "metadata": {},
     "output_type": "display_data"
    },
    {
     "name": "stderr",
     "output_type": "stream",
     "text": [
      "/tmp/ipykernel_27921/1797884712.py:8: FutureWarning: The behavior of DataFrame concatenation with empty or all-NA entries is deprecated. In a future version, this will no longer exclude empty or all-NA columns when determining the result dtypes. To retain the old behavior, exclude the relevant entries before the concat operation.\n",
      "  metricas = pd.concat([metricas, resultado_modelo])\n"
     ]
    },
    {
     "data": {
      "text/html": [
       "<div>\n",
       "<style scoped>\n",
       "    .dataframe tbody tr th:only-of-type {\n",
       "        vertical-align: middle;\n",
       "    }\n",
       "\n",
       "    .dataframe tbody tr th {\n",
       "        vertical-align: top;\n",
       "    }\n",
       "\n",
       "    .dataframe thead th {\n",
       "        text-align: right;\n",
       "    }\n",
       "</style>\n",
       "<table border=\"1\" class=\"dataframe\">\n",
       "  <thead>\n",
       "    <tr style=\"text-align: right;\">\n",
       "      <th></th>\n",
       "      <th>Method</th>\n",
       "      <th>Acuracia</th>\n",
       "      <th>Precisao</th>\n",
       "      <th>Recall</th>\n",
       "      <th>F1</th>\n",
       "      <th>Log-loss</th>\n",
       "    </tr>\n",
       "  </thead>\n",
       "  <tbody>\n",
       "    <tr>\n",
       "      <th>0</th>\n",
       "      <td>Logistica_sem_penalizacao</td>\n",
       "      <td>0.616</td>\n",
       "      <td>0.778</td>\n",
       "      <td>0.03</td>\n",
       "      <td>0.057</td>\n",
       "      <td>0.674</td>\n",
       "    </tr>\n",
       "  </tbody>\n",
       "</table>\n",
       "</div>"
      ],
      "text/plain": [
       "                      Method  Acuracia  Precisao  Recall     F1  Log-loss\n",
       "0  Logistica_sem_penalizacao     0.616     0.778    0.03  0.057     0.674"
      ]
     },
     "execution_count": 22,
     "metadata": {},
     "output_type": "execute_result"
    }
   ],
   "source": [
    "#Computa metricas do modelo\n",
    "resultado_modelo = get_model_metrics(\n",
    "    model_name='Logistica_sem_penalizacao',\n",
    "    threshold=.5,\n",
    "    y_prob=models['Logistica_sem_penalizacao'].predict_proba(X_test)[:,1],\n",
    "    y_test=y_test)\n",
    "\n",
    "metricas = pd.concat([metricas, resultado_modelo])\n",
    "metricas"
   ]
  },
  {
   "cell_type": "markdown",
   "metadata": {},
   "source": [
    "## Salva no mlflow"
   ]
  },
  {
   "cell_type": "code",
   "execution_count": 23,
   "metadata": {},
   "outputs": [
    {
     "name": "stderr",
     "output_type": "stream",
     "text": [
      "2025/04/01 17:42:02 INFO mlflow.tracking.fluent: Experiment with name 'Potability2' does not exist. Creating a new experiment.\n",
      "/home/ufscar/PycharmProjects/mlflow/.venv/lib/python3.12/site-packages/mlflow/tracking/metric_value_conversion_utils.py:53: FutureWarning: Calling float on a single element Series is deprecated and will raise a TypeError in the future. Use float(ser.iloc[0]) instead\n",
      "  return float(x)\n",
      "\u001b[31m2025/04/01 17:42:06 WARNING mlflow.models.model: Model logged without a signature and input example. Please set `input_example` parameter when logging the model to auto infer the model signature.\u001b[0m\n"
     ]
    },
    {
     "name": "stdout",
     "output_type": "stream",
     "text": [
      "🏃 View run Logistica_sem_penalizacao at: http://localhost:5001/#/experiments/1/runs/02c62695770449389b2860870bbde48c\n",
      "🧪 View experiment at: http://localhost:5001/#/experiments/1\n"
     ]
    }
   ],
   "source": [
    "# Inicializa o mlflow\n",
    "mlflow.set_tracking_uri('http://localhost:5001')\n",
    "mlflow.set_experiment(\"Potability2\")\n",
    "\n",
    "mlflow.start_run(run_name=\"Logistica_sem_penalizacao\")\n",
    "parametros = {\n",
    "    \"n_entries\": 2011,\n",
    "    \"penalty\": None,\n",
    "}\n",
    "resultado_modelo = {\n",
    "    \"acuracia\" : metricas['Acuracia'],\n",
    "    \"f1\": metricas['F1'],\n",
    "    \"log-loss\": metricas['F1'],\n",
    "    \"precisao\": metricas['Precisao'],\n",
    "    \"recall\": metricas['Recall']\n",
    "}\n",
    "mlflow.log_params(parametros)\n",
    "mlflow.log_metrics(resultado_modelo)\n",
    "mlflow.sklearn.log_model(logistic_none, \"linear_no_penalty\")\n",
    "mlflow.end_run()"
   ]
  },
  {
   "cell_type": "code",
   "execution_count": 24,
   "metadata": {},
   "outputs": [],
   "source": [
    "mlflow.end_run()"
   ]
  },
  {
   "cell_type": "markdown",
   "metadata": {},
   "source": [
    "## Logistica com penalizacao"
   ]
  },
  {
   "cell_type": "code",
   "execution_count": 25,
   "metadata": {},
   "outputs": [],
   "source": [
    "#Logistica com L1\n",
    "logistic_l1 = linear_model.LogisticRegressionCV(\n",
    "    penalty=\"l1\",\n",
    "    solver='liblinear',\n",
    "    scoring='neg_log_loss',\n",
    "    max_iter=50, cv=10).fit(X=X_train, y=y_train)\n",
    "models[\"Logistica_com_l1\"] = logistic_l1"
   ]
  },
  {
   "cell_type": "code",
   "execution_count": 27,
   "metadata": {},
   "outputs": [
    {
     "name": "stderr",
     "output_type": "stream",
     "text": [
      "/home/ufscar/PycharmProjects/mlflow/.venv/lib/python3.12/site-packages/sklearn/metrics/_classification.py:1565: UndefinedMetricWarning: Precision is ill-defined and being set to 0.0 due to no predicted samples. Use `zero_division` parameter to control this behavior.\n",
      "  _warn_prf(average, modifier, f\"{metric.capitalize()} is\", len(result))\n"
     ]
    },
    {
     "data": {
      "image/png": "[encoded data removed]",
      "text/plain": [
       "<Figure size 640x480 with 2 Axes>"
      ]
     },
     "metadata": {},
     "output_type": "display_data"
    },
    {
     "name": "stderr",
     "output_type": "stream",
     "text": [
      "/tmp/ipykernel_27921/1086857272.py:14: FutureWarning: The behavior of DataFrame concatenation with empty or all-NA entries is deprecated. In a future version, this will no longer exclude empty or all-NA columns when determining the result dtypes. To retain the old behavior, exclude the relevant entries before the concat operation.\n",
      "  metricas_l1 = pd.concat([metricas_l1, resultado_modelo2])\n"
     ]
    },
    {
     "data": {
      "text/html": [
       "<div>\n",
       "<style scoped>\n",
       "    .dataframe tbody tr th:only-of-type {\n",
       "        vertical-align: middle;\n",
       "    }\n",
       "\n",
       "    .dataframe tbody tr th {\n",
       "        vertical-align: top;\n",
       "    }\n",
       "\n",
       "    .dataframe thead th {\n",
       "        text-align: right;\n",
       "    }\n",
       "</style>\n",
       "<table border=\"1\" class=\"dataframe\">\n",
       "  <thead>\n",
       "    <tr style=\"text-align: right;\">\n",
       "      <th></th>\n",
       "      <th>Method</th>\n",
       "      <th>Acuracia</th>\n",
       "      <th>Precisao</th>\n",
       "      <th>Recall</th>\n",
       "      <th>F1</th>\n",
       "      <th>Log-loss</th>\n",
       "    </tr>\n",
       "  </thead>\n",
       "  <tbody>\n",
       "    <tr>\n",
       "      <th>0</th>\n",
       "      <td>Logistica_com_l1</td>\n",
       "      <td>0.608</td>\n",
       "      <td>0.0</td>\n",
       "      <td>0.0</td>\n",
       "      <td>0.0</td>\n",
       "      <td>0.672</td>\n",
       "    </tr>\n",
       "  </tbody>\n",
       "</table>\n",
       "</div>"
      ],
      "text/plain": [
       "             Method  Acuracia  Precisao  Recall   F1  Log-loss\n",
       "0  Logistica_com_l1     0.608       0.0     0.0  0.0     0.672"
      ]
     },
     "execution_count": 27,
     "metadata": {},
     "output_type": "execute_result"
    }
   ],
   "source": [
    "#Computa metricas do modelo\n",
    "metricas_l1 = pd.DataFrame(columns = ['Method',\n",
    "                                      'Acuracia',\n",
    "                                      'Precisao',\n",
    "                                      \"Recall\",\n",
    "                                      'F1',\n",
    "                                      'Log-loss'])\n",
    "resultado_modelo2 = get_model_metrics(\n",
    "    model_name='Logistica_com_l1',\n",
    "    threshold=.5,\n",
    "    y_prob=models['Logistica_com_l1'].predict_proba(X_test)[:,1],\n",
    "    y_test=y_test)\n",
    "\n",
    "metricas_l1 = pd.concat([metricas_l1, resultado_modelo2])\n",
    "metricas_l1"
   ]
  },
  {
   "cell_type": "code",
   "execution_count": 28,
   "metadata": {},
   "outputs": [
    {
     "name": "stderr",
     "output_type": "stream",
     "text": [
      "/home/ufscar/PycharmProjects/mlflow/.venv/lib/python3.12/site-packages/mlflow/tracking/metric_value_conversion_utils.py:53: FutureWarning: Calling float on a single element Series is deprecated and will raise a TypeError in the future. Use float(ser.iloc[0]) instead\n",
      "  return float(x)\n",
      "\u001b[31m2025/04/01 17:43:44 WARNING mlflow.models.model: Model logged without a signature and input example. Please set `input_example` parameter when logging the model to auto infer the model signature.\u001b[0m\n"
     ]
    },
    {
     "name": "stdout",
     "output_type": "stream",
     "text": [
      "🏃 View run Logistica_com_l1 at: http://localhost:5001/#/experiments/1/runs/c4d01985a24945cabcdd0fcb8392b6d4\n",
      "🧪 View experiment at: http://localhost:5001/#/experiments/1\n"
     ]
    }
   ],
   "source": [
    "# salva no mlflow\n",
    "mlflow.set_tracking_uri('http://localhost:5001')\n",
    "mlflow.set_experiment(\"Potability2\")\n",
    "\n",
    "mlflow.start_run(run_name=\"Logistica_com_l1\")\n",
    "\n",
    "resultado_l1 = {\n",
    "    \"acuracia\" : metricas_l1['Acuracia'],\n",
    "    \"f1\": metricas_l1['F1'],\n",
    "    \"log-loss\": metricas_l1['F1'],\n",
    "    \"precisao\": metricas_l1['Precisao'],\n",
    "    \"recall\": metricas_l1['Recall']\n",
    "}\n",
    "mlflow.log_params(parametros)\n",
    "mlflow.log_metrics(resultado_l1)\n",
    "mlflow.sklearn.log_model(logistic_l1, \"linear_with_l1\")\n",
    "mlflow.end_run()"
   ]
  },
  {
   "cell_type": "code",
   "execution_count": 29,
   "metadata": {},
   "outputs": [
    {
     "data": {
      "text/html": [
       "<div>\n",
       "<style scoped>\n",
       "    .dataframe tbody tr th:only-of-type {\n",
       "        vertical-align: middle;\n",
       "    }\n",
       "\n",
       "    .dataframe tbody tr th {\n",
       "        vertical-align: top;\n",
       "    }\n",
       "\n",
       "    .dataframe thead th {\n",
       "        text-align: right;\n",
       "    }\n",
       "</style>\n",
       "<table border=\"1\" class=\"dataframe\">\n",
       "  <thead>\n",
       "    <tr style=\"text-align: right;\">\n",
       "      <th></th>\n",
       "      <th>Method</th>\n",
       "      <th>Acuracia</th>\n",
       "      <th>Precisao</th>\n",
       "      <th>Recall</th>\n",
       "      <th>F1</th>\n",
       "      <th>Log-loss</th>\n",
       "    </tr>\n",
       "  </thead>\n",
       "  <tbody>\n",
       "    <tr>\n",
       "      <th>0</th>\n",
       "      <td>Logistica_com_l1</td>\n",
       "      <td>0.608</td>\n",
       "      <td>0.0</td>\n",
       "      <td>0.0</td>\n",
       "      <td>0.0</td>\n",
       "      <td>0.672</td>\n",
       "    </tr>\n",
       "  </tbody>\n",
       "</table>\n",
       "</div>"
      ],
      "text/plain": [
       "             Method  Acuracia  Precisao  Recall   F1  Log-loss\n",
       "0  Logistica_com_l1     0.608       0.0     0.0  0.0     0.672"
      ]
     },
     "execution_count": 29,
     "metadata": {},
     "output_type": "execute_result"
    }
   ],
   "source": [
    "resultado_modelo2"
   ]
  },
  {
   "cell_type": "code",
   "execution_count": null,
   "metadata": {},
   "outputs": [],
   "source": [
    "#TODO Registro do modelo no MLFlow"
   ]
  }
 ],
 "metadata": {
  "kernelspec": {
   "display_name": ".venv",
   "language": "python",
   "name": "python3"
  },
  "language_info": {
   "codemirror_mode": {
    "name": "ipython",
    "version": 3
   },
   "file_extension": ".py",
   "mimetype": "text/x-python",
   "name": "python",
   "nbconvert_exporter": "python",
   "pygments_lexer": "ipython3",
   "version": "3.12.3"
  }
 },
 "nbformat": 4,
 "nbformat_minor": 2
}
