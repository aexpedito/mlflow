{
 "cells": [
  {
   "cell_type": "code",
   "execution_count": 1,
   "metadata": {},
   "outputs": [
    {
     "name": "stderr",
     "output_type": "stream",
     "text": [
      "/home/aexpedito/mlflow/.venv/lib/python3.12/site-packages/tqdm/auto.py:21: TqdmWarning: IProgress not found. Please update jupyter and ipywidgets. See https://ipywidgets.readthedocs.io/en/stable/user_install.html\n",
      "  from .autonotebook import tqdm as notebook_tqdm\n"
     ]
    },
    {
     "name": "stdout",
     "output_type": "stream",
     "text": [
      "Downloading from https://www.kaggle.com/api/v1/datasets/download/adityakadiwal/water-potability?dataset_version_number=3...\n"
     ]
    },
    {
     "name": "stderr",
     "output_type": "stream",
     "text": [
      "100%|██████████| 251k/251k [00:00<00:00, 475kB/s]"
     ]
    },
    {
     "name": "stdout",
     "output_type": "stream",
     "text": [
      "Extracting files...\n"
     ]
    },
    {
     "name": "stderr",
     "output_type": "stream",
     "text": [
      "\n",
      "2025-01-14 15:43:03.792811: I external/local_xla/xla/tsl/cuda/cudart_stub.cc:32] Could not find cuda drivers on your machine, GPU will not be used.\n"
     ]
    },
    {
     "name": "stdout",
     "output_type": "stream",
     "text": [
      "Path to dataset files: /home/aexpedito/.cache/kagglehub/datasets/adityakadiwal/water-potability/versions/3\n"
     ]
    },
    {
     "name": "stderr",
     "output_type": "stream",
     "text": [
      "2025-01-14 15:43:03.803188: I external/local_xla/xla/tsl/cuda/cudart_stub.cc:32] Could not find cuda drivers on your machine, GPU will not be used.\n",
      "2025-01-14 15:43:03.820715: E external/local_xla/xla/stream_executor/cuda/cuda_fft.cc:477] Unable to register cuFFT factory: Attempting to register factory for plugin cuFFT when one has already been registered\n",
      "WARNING: All log messages before absl::InitializeLog() is called are written to STDERR\n",
      "E0000 00:00:1736880183.838806   81031 cuda_dnn.cc:8310] Unable to register cuDNN factory: Attempting to register factory for plugin cuDNN when one has already been registered\n",
      "E0000 00:00:1736880183.844109   81031 cuda_blas.cc:1418] Unable to register cuBLAS factory: Attempting to register factory for plugin cuBLAS when one has already been registered\n",
      "2025-01-14 15:43:03.874057: I tensorflow/core/platform/cpu_feature_guard.cc:210] This TensorFlow binary is optimized to use available CPU instructions in performance-critical operations.\n",
      "To enable the following instructions: AVX2 FMA, in other operations, rebuild TensorFlow with the appropriate compiler flags.\n"
     ]
    }
   ],
   "source": [
    "#download dataset from kaggle\n",
    "import kagglehub\n",
    "path = kagglehub.dataset_download(\"adityakadiwal/water-potability\", force_download=True)\n",
    "print(\"Path to dataset files:\", path)\n",
    "\n",
    "# Import das Bibliotecas\n",
    "import tensorflow as tf\n",
    "import keras\n",
    "\n",
    "import numpy as np\n",
    "import matplotlib.pyplot as plt\n",
    "import pandas as pd\n",
    "\n",
    "from sklearn.model_selection import train_test_split\n",
    "import mlflow\n",
    "\n",
    "from sklearn.metrics import mean_squared_error as mse\n",
    "from sklearn.metrics import accuracy_score as acc\n",
    "from sklearn.metrics import f1_score as f1\n",
    "from sklearn.metrics import brier_score_loss as brier\n",
    "from sklearn.metrics import log_loss, precision_score, recall_score\n",
    "from sklearn import metrics\n",
    "from sklearn.metrics import make_scorer\n",
    "from sklearn.metrics import confusion_matrix, ConfusionMatrixDisplay"
   ]
  },
  {
   "cell_type": "code",
   "execution_count": 2,
   "metadata": {},
   "outputs": [],
   "source": [
    "# abrindo arquivo\n",
    "data_df = pd.read_csv(path + '/water_potability.csv')"
   ]
  },
  {
   "cell_type": "code",
   "execution_count": 3,
   "metadata": {},
   "outputs": [],
   "source": [
    "#dropa linhas com NA\n",
    "data_df.dropna(inplace=True)"
   ]
  },
  {
   "cell_type": "code",
   "execution_count": 4,
   "metadata": {},
   "outputs": [],
   "source": [
    "# Split dos dados\n",
    "data_df_train, data_df_test = train_test_split(data_df, test_size=0.30, random_state=0, shuffle=True)"
   ]
  },
  {
   "cell_type": "code",
   "execution_count": 5,
   "metadata": {},
   "outputs": [],
   "source": [
    "# Normalização dos dados numéricos\n",
    "from sklearn import linear_model\n",
    "from sklearn.compose import ColumnTransformer\n",
    "from sklearn.preprocessing import MinMaxScaler, OneHotEncoder\n",
    "\n",
    "numeric_features = ['ph', 'Hardness', 'Solids', 'Chloramines', 'Sulfate', 'Conductivity','Organic_carbon', 'Trihalomethanes', 'Turbidity']\n",
    "categorical_features = ['Potability']\n",
    "transformer = ColumnTransformer([\n",
    "    ('numeric', MinMaxScaler(), numeric_features)\n",
    "])\n",
    "\n",
    "X_train = transformer.fit_transform(data_df_train)\n",
    "features = transformer.get_feature_names_out()\n",
    "X_train = pd.DataFrame(X_train, columns=features)\n",
    "X_test = pd.DataFrame(transformer.transform(data_df_test), columns=features)\n",
    "\n",
    "y_train = data_df_train['Potability']\n",
    "y_test = data_df_test['Potability']"
   ]
  },
  {
   "cell_type": "code",
   "execution_count": 7,
   "metadata": {},
   "outputs": [],
   "source": [
    "#Funçoes utilizadas\n",
    "def get_model_metrics(model_name, threshold, y_prob, y_test):\n",
    "    # salvando resultado\n",
    "    y_pred = (y_prob > threshold)*1\n",
    "    acc_estimate = round(acc(y_test,y_pred), 3)\n",
    "    log_estimate = round(log_loss(y_test,y_prob), 3)\n",
    "    precision = round(precision_score(y_test, y_pred), 3)\n",
    "    recall = round(recall_score(y_test, y_pred), 3)\n",
    "    f1_score = round(metrics.f1_score(y_test, y_pred), 3)\n",
    "\n",
    "    ConfusionMatrixDisplay.from_predictions(y_test, y_pred, normalize = 'all')\n",
    "    plt.show()\n",
    "\n",
    "\n",
    "    return pd.DataFrame({\n",
    "        'Method': [model_name],\n",
    "        'Acuracia': [acc_estimate],\n",
    "        \"Precisao\": [precision],\n",
    "        \"Recall\": [recall],\n",
    "        'F1': [f1_score],\n",
    "        'Log-loss': [log_estimate]\n",
    "    })"
   ]
  },
  {
   "cell_type": "markdown",
   "metadata": {},
   "source": [
    "# Modelo LogisticRegression"
   ]
  },
  {
   "cell_type": "code",
   "execution_count": 8,
   "metadata": {},
   "outputs": [],
   "source": [
    "models = {}\n",
    "metricas = pd.DataFrame(columns = ['Method','Acuracia', 'Precisao', \"Recall\",'F1','Log-loss'])\n",
    "\n",
    "logistic_none = linear_model.LogisticRegression(penalty=None, max_iter=1000)\n",
    "logistic_none.fit(X=X_train, y=y_train)\n",
    "\n",
    "models['Logistica_sem_penalizacao'] = logistic_none"
   ]
  },
  {
   "cell_type": "code",
   "execution_count": 9,
   "metadata": {},
   "outputs": [
    {
     "data": {
      "image/png": "[encoded data removed]",
      "text/plain": [
       "<Figure size 640x480 with 2 Axes>"
      ]
     },
     "metadata": {},
     "output_type": "display_data"
    },
    {
     "name": "stderr",
     "output_type": "stream",
     "text": [
      "/tmp/ipykernel_81031/1797884712.py:8: FutureWarning: The behavior of DataFrame concatenation with empty or all-NA entries is deprecated. In a future version, this will no longer exclude empty or all-NA columns when determining the result dtypes. To retain the old behavior, exclude the relevant entries before the concat operation.\n",
      "  metricas = pd.concat([metricas, resultado_modelo])\n"
     ]
    },
    {
     "data": {
      "text/html": [
       "<div>\n",
       "<style scoped>\n",
       "    .dataframe tbody tr th:only-of-type {\n",
       "        vertical-align: middle;\n",
       "    }\n",
       "\n",
       "    .dataframe tbody tr th {\n",
       "        vertical-align: top;\n",
       "    }\n",
       "\n",
       "    .dataframe thead th {\n",
       "        text-align: right;\n",
       "    }\n",
       "</style>\n",
       "<table border=\"1\" class=\"dataframe\">\n",
       "  <thead>\n",
       "    <tr style=\"text-align: right;\">\n",
       "      <th></th>\n",
       "      <th>Method</th>\n",
       "      <th>Acuracia</th>\n",
       "      <th>Precisao</th>\n",
       "      <th>Recall</th>\n",
       "      <th>F1</th>\n",
       "      <th>Log-loss</th>\n",
       "    </tr>\n",
       "  </thead>\n",
       "  <tbody>\n",
       "    <tr>\n",
       "      <th>0</th>\n",
       "      <td>Logistica_sem_penalizacao</td>\n",
       "      <td>0.616</td>\n",
       "      <td>0.778</td>\n",
       "      <td>0.03</td>\n",
       "      <td>0.057</td>\n",
       "      <td>0.674</td>\n",
       "    </tr>\n",
       "  </tbody>\n",
       "</table>\n",
       "</div>"
      ],
      "text/plain": [
       "                      Method  Acuracia  Precisao  Recall     F1  Log-loss\n",
       "0  Logistica_sem_penalizacao     0.616     0.778    0.03  0.057     0.674"
      ]
     },
     "execution_count": 9,
     "metadata": {},
     "output_type": "execute_result"
    }
   ],
   "source": [
    "#Computa metricas do modelo\n",
    "resultado_modelo = get_model_metrics(\n",
    "    model_name='Logistica_sem_penalizacao',\n",
    "    threshold=.5,\n",
    "    y_prob=models['Logistica_sem_penalizacao'].predict_proba(X_test)[:,1],\n",
    "    y_test=y_test)\n",
    "\n",
    "metricas = pd.concat([metricas, resultado_modelo])\n",
    "metricas"
   ]
  },
  {
   "cell_type": "markdown",
   "metadata": {},
   "source": [
    "## Salva no mlflow"
   ]
  },
  {
   "cell_type": "code",
   "execution_count": 10,
   "metadata": {},
   "outputs": [
    {
     "name": "stderr",
     "output_type": "stream",
     "text": [
      "/home/aexpedito/mlflow/.venv/lib/python3.12/site-packages/mlflow/tracking/metric_value_conversion_utils.py:53: FutureWarning: Calling float on a single element Series is deprecated and will raise a TypeError in the future. Use float(ser.iloc[0]) instead\n",
      "  return float(x)\n",
      "\u001b[31m2025/01/14 15:43:42 WARNING mlflow.models.model: Model logged without a signature and input example. Please set `input_example` parameter when logging the model to auto infer the model signature.\u001b[0m\n"
     ]
    },
    {
     "name": "stdout",
     "output_type": "stream",
     "text": [
      "🏃 View run Logistica_sem_penalizacao at: http://localhost:5001/#/experiments/3/runs/151b0c6b3f6d4d2c91a4face123d8556\n",
      "🧪 View experiment at: http://localhost:5001/#/experiments/3\n"
     ]
    }
   ],
   "source": [
    "# Inicializa o mlflow\n",
    "mlflow.set_tracking_uri('http://localhost:5001')\n",
    "mlflow.set_experiment(\"Potability2\")\n",
    "\n",
    "mlflow.start_run(run_name=\"Logistica_sem_penalizacao\")\n",
    "parametros = {\n",
    "    \"n_entries\": 2011,\n",
    "    \"penalty\": None,\n",
    "}\n",
    "resultado_modelo = {\n",
    "    \"acuracia\" : metricas['Acuracia'],\n",
    "    \"f1\": metricas['F1'],\n",
    "    \"log-loss\": metricas['F1'],\n",
    "    \"precisao\": metricas['Precisao'],\n",
    "    \"recall\": metricas['Recall']\n",
    "}\n",
    "mlflow.log_params(parametros)\n",
    "mlflow.log_metrics(resultado_modelo)\n",
    "mlflow.sklearn.log_model(logistic_none, \"linear_no_penalty\")\n",
    "mlflow.end_run()"
   ]
  },
  {
   "cell_type": "code",
   "execution_count": null,
   "metadata": {},
   "outputs": [],
   "source": [
    "mlflow.end_run()"
   ]
  }
 ],
 "metadata": {
  "kernelspec": {
   "display_name": ".venv",
   "language": "python",
   "name": "python3"
  },
  "language_info": {
   "codemirror_mode": {
    "name": "ipython",
    "version": 3
   },
   "file_extension": ".py",
   "mimetype": "text/x-python",
   "name": "python",
   "nbconvert_exporter": "python",
   "pygments_lexer": "ipython3",
   "version": "3.12.3"
  }
 },
 "nbformat": 4,
 "nbformat_minor": 2
}
